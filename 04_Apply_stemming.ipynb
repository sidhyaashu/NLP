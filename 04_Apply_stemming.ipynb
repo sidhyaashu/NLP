{
 "cells": [
  {
   "cell_type": "markdown",
   "metadata": {},
   "source": [
    "Stemming in NLP refers to reducing words to their root or base form. There are three main types:\n",
    "\n",
    "- Porter Stemmer:\n",
    "\n",
    "Rule-based algorithm.\n",
    "Iteratively removes common suffixes like \"-ing,\" \"-ed,\" and \"-ly.\"\n",
    "Fast and widely used but sometimes over-aggressive.\n",
    "\n",
    "- Lancaster Stemmer:\n",
    "\n",
    "More aggressive than Porter.\n",
    "Removes larger chunks of words.\n",
    "Can lead to over-stemming, making it less precise.\n",
    "\n",
    "- Snowball Stemmer:\n",
    "\n",
    "An improvement over Porter.\n",
    "Supports multiple languages.\n",
    "More sophisticated rules, balancing speed and accuracy."
   ]
  },
  {
   "cell_type": "markdown",
   "metadata": {},
   "source": []
  },
  {
   "cell_type": "code",
   "execution_count": null,
   "metadata": {},
   "outputs": [],
   "source": [
    "from nltk.stem import PorterStemmer, LancasterStemmer, SnowballStemmer\n",
    "\n",
    "# Example words to stem\n",
    "words = [\"running\", \"jumps\", \"easily\", \"studies\", \"happily\", \"runners\"]\n",
    "\n",
    "# Porter Stemmer\n",
    "porter = PorterStemmer()\n",
    "porter_stemmed = [porter.stem(word) for word in words]\n",
    "\n",
    "# Lancaster Stemmer\n",
    "lancaster = LancasterStemmer()\n",
    "lancaster_stemmed = [lancaster.stem(word) for word in words]\n",
    "\n",
    "# Snowball Stemmer (supports multiple languages, here using English)\n",
    "snowball = SnowballStemmer(\"english\")\n",
    "snowball_stemmed = [snowball.stem(word) for word in words]\n",
    "\n",
    "# Print results\n",
    "print(\"Original Words:\", words)\n",
    "print(\"Porter Stemmer:\", porter_stemmed)\n",
    "print(\"Lancaster Stemmer:\", lancaster_stemmed)\n",
    "print(\"Snowball Stemmer:\", snowball_stemmed)\n"
   ]
  },
  {
   "cell_type": "code",
   "execution_count": null,
   "metadata": {
    "vscode": {
     "languageId": "plaintext"
    }
   },
   "outputs": [],
   "source": []
  }
 ],
 "metadata": {
  "language_info": {
   "name": "python"
  }
 },
 "nbformat": 4,
 "nbformat_minor": 2
}
