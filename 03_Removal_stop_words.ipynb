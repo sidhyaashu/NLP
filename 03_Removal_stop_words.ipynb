{
 "cells": [
  {
   "cell_type": "code",
   "execution_count": 14,
   "metadata": {},
   "outputs": [],
   "source": [
    "import nltk\n"
   ]
  },
  {
   "cell_type": "code",
   "execution_count": 15,
   "metadata": {},
   "outputs": [
    {
     "name": "stderr",
     "output_type": "stream",
     "text": [
      "[nltk_data] Downloading package stopwords to\n",
      "[nltk_data]     C:\\Users\\ashut\\AppData\\Roaming\\nltk_data...\n",
      "[nltk_data]   Package stopwords is already up-to-date!\n"
     ]
    },
    {
     "data": {
      "text/plain": [
       "True"
      ]
     },
     "execution_count": 15,
     "metadata": {},
     "output_type": "execute_result"
    }
   ],
   "source": [
    "nltk.download('stopwords')"
   ]
  },
  {
   "cell_type": "code",
   "execution_count": 16,
   "metadata": {},
   "outputs": [],
   "source": [
    "from nltk.corpus import stopwords"
   ]
  },
  {
   "cell_type": "code",
   "execution_count": 13,
   "metadata": {},
   "outputs": [
    {
     "name": "stderr",
     "output_type": "stream",
     "text": [
      "[nltk_data] Downloading package stopwords to\n",
      "[nltk_data]     C:\\Users\\ashut\\AppData\\Roaming\\nltk_data...\n",
      "[nltk_data]   Package stopwords is already up-to-date!\n",
      "[nltk_data] Downloading package words to\n",
      "[nltk_data]     C:\\Users\\ashut\\AppData\\Roaming\\nltk_data...\n",
      "[nltk_data]   Unzipping corpora\\words.zip.\n",
      "[nltk_data] Downloading package reuters to\n",
      "[nltk_data]     C:\\Users\\ashut\\AppData\\Roaming\\nltk_data...\n",
      "[nltk_data] Downloading package gutenberg to\n",
      "[nltk_data]     C:\\Users\\ashut\\AppData\\Roaming\\nltk_data...\n",
      "[nltk_data]   Unzipping corpora\\gutenberg.zip.\n"
     ]
    },
    {
     "name": "stdout",
     "output_type": "stream",
     "text": [
      "Length of stopwords corpus: 179\n",
      "Length of words corpus: 236736\n",
      "Number of files in the reuters corpus: 10788\n",
      "Number of texts in the Gutenberg corpus: 18\n"
     ]
    }
   ],
   "source": [
    "# Download the required corpora\n",
    "nltk.download('stopwords')\n",
    "nltk.download('words')\n",
    "nltk.download('reuters')\n",
    "nltk.download('gutenberg')\n",
    "\n",
    "# Example: Check the length of the 'stopwords' corpus\n",
    "from nltk.corpus import stopwords\n",
    "print(f\"Length of stopwords corpus: {len(stopwords.words('english'))}\")\n",
    "\n",
    "# Example: Check the length of the 'words' corpus\n",
    "from nltk.corpus import words\n",
    "print(f\"Length of words corpus: {len(words.words())}\")\n",
    "\n",
    "# Example: Check the length of the 'reuters' corpus\n",
    "from nltk.corpus import reuters\n",
    "print(f\"Number of files in the reuters corpus: {len(reuters.fileids())}\")\n",
    "\n",
    "# Example: Check the length of the 'gutenberg' corpus\n",
    "from nltk.corpus import gutenberg\n",
    "print(f\"Number of texts in the Gutenberg corpus: {len(gutenberg.fileids())}\")"
   ]
  },
  {
   "cell_type": "code",
   "execution_count": 12,
   "metadata": {},
   "outputs": [
    {
     "name": "stdout",
     "output_type": "stream",
     "text": [
      "<WordListCorpusReader in 'C:\\\\Users\\\\ashut\\\\AppData\\\\Roaming\\\\nltk_data\\\\corpora\\\\stopwords'>\n"
     ]
    }
   ],
   "source": [
    "print(stopwords)"
   ]
  },
  {
   "cell_type": "code",
   "execution_count": null,
   "metadata": {},
   "outputs": [],
   "source": []
  }
 ],
 "metadata": {
  "kernelspec": {
   "display_name": "ai",
   "language": "python",
   "name": "python3"
  },
  "language_info": {
   "codemirror_mode": {
    "name": "ipython",
    "version": 3
   },
   "file_extension": ".py",
   "mimetype": "text/x-python",
   "name": "python",
   "nbconvert_exporter": "python",
   "pygments_lexer": "ipython3",
   "version": "3.10.16"
  }
 },
 "nbformat": 4,
 "nbformat_minor": 2
}
