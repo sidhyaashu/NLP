{
 "cells": [
  {
   "cell_type": "code",
   "execution_count": null,
   "metadata": {},
   "outputs": [],
   "source": []
  },
  {
   "cell_type": "markdown",
   "metadata": {},
   "source": [
    "# Basic Techniques:\n",
    "    1. Lower Case\n",
    "    2. Removing Punctuations\n",
    "    3. Removal of special characters and Numbers\n",
    "    4. Removal of HTML tags\n",
    "    5. Removal of URL's \n",
    "    6. Removal of extra Space\n",
    "    7. Expanding Contraction\n",
    "    8. Text Correction\n",
    "\n",
    "# Advanced Techniques:\n",
    "    1. Apply Tokenization\n",
    "    2. Stop word removal\n",
    "    3. Apply Stemming\n",
    "    4. Apply Lemmatization\n",
    "\n",
    "# More Advanced Techniques:\n",
    "    1. POS (Part Of Speech)\n",
    "    2. NER (Name Entity Recognation)"
   ]
  },
  {
   "cell_type": "code",
   "execution_count": 1,
   "metadata": {},
   "outputs": [
    {
     "name": "stdout",
     "output_type": "stream",
     "text": [
      "Sidhya\n"
     ]
    }
   ],
   "source": [
    "print(\"Sidhya\")"
   ]
  },
  {
   "cell_type": "code",
   "execution_count": null,
   "metadata": {},
   "outputs": [],
   "source": [
    "x= 5"
   ]
  }
 ],
 "metadata": {
  "kernelspec": {
   "display_name": "ai",
   "language": "python",
   "name": "python3"
  },
  "language_info": {
   "codemirror_mode": {
    "name": "ipython",
    "version": 3
   },
   "file_extension": ".py",
   "mimetype": "text/x-python",
   "name": "python",
   "nbconvert_exporter": "python",
   "pygments_lexer": "ipython3",
   "version": "3.13.1"
  }
 },
 "nbformat": 4,
 "nbformat_minor": 2
}
