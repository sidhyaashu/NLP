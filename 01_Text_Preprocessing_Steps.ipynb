{
 "cells": [
  {
   "cell_type": "code",
   "execution_count": null,
   "metadata": {},
   "outputs": [],
   "source": []
  },
  {
   "cell_type": "markdown",
   "metadata": {},
   "source": [
    "# Basic Techniques:\n",
    "    1. Lower Case\n",
    "    2. Removing Punctuations\n",
    "    3. Removal of special characters and Numbers\n",
    "    4. Removal of HTML tags\n",
    "    5. Removal of URL's \n",
    "    6. Removal of extra Space\n",
    "    7. Expanding Contraction\n",
    "    8. Text Correction\n",
    "\n",
    "# Advanced Techniques:\n",
    "    1. Apply Tokenization\n",
    "    2. Stop word removal\n",
    "    3. Apply Stemming\n",
    "    4. Apply Lemmatization\n",
    "\n",
    "# More Advanced Techniques:\n",
    "    1. POS (Part Of Speech)\n",
    "    2. NER (Name Entity Recognation)"
   ]
  },
  {
   "cell_type": "markdown",
   "metadata": {},
   "source": [
    "# 1. Lowering Case"
   ]
  },
  {
   "cell_type": "code",
   "execution_count": 2,
   "metadata": {},
   "outputs": [
    {
     "name": "stdout",
     "output_type": "stream",
     "text": [
      "hii my name is asutosh sidhya\n"
     ]
    }
   ],
   "source": [
    "sentence = \"Hii My Name is Asutosh Sidhya\"\n",
    "lower_sentence = str(sentence).lower()\n",
    "print(lower_sentence)"
   ]
  },
  {
   "cell_type": "markdown",
   "metadata": {},
   "source": [
    "# 2. Removing Punctuations"
   ]
  },
  {
   "cell_type": "code",
   "execution_count": 3,
   "metadata": {},
   "outputs": [
    {
     "data": {
      "text/plain": [
       "'!\"#$%&\\'()*+,-./:;<=>?@[\\\\]^_`{|}~'"
      ]
     },
     "execution_count": 3,
     "metadata": {},
     "output_type": "execute_result"
    }
   ],
   "source": [
    "import string\n",
    "punc = string.punctuation\n",
    "punc "
   ]
  },
  {
   "cell_type": "code",
   "execution_count": 4,
   "metadata": {},
   "outputs": [
    {
     "name": "stdout",
     "output_type": "stream",
     "text": [
      "Hii who is Asutosh? \n"
     ]
    }
   ],
   "source": [
    "sentence = \"Hii ! who is Asutosh? \"\n",
    "without_punc = [word for word in sentence.split(\" \") if word not in list(punc)]\n",
    "print(\" \".join(without_punc))"
   ]
  },
  {
   "cell_type": "markdown",
   "metadata": {},
   "source": [
    "# 3. Removing Special Character and Number"
   ]
  },
  {
   "cell_type": "code",
   "execution_count": 5,
   "metadata": {},
   "outputs": [
    {
     "name": "stdout",
     "output_type": "stream",
     "text": [
      "Find the remainder when  math          math  is divided by       \n"
     ]
    }
   ],
   "source": [
    "import re\n",
    "\n",
    "sentence = \"Find the remainder when [math]23^{24}[/math] is divided by 23,24?\"\n",
    "sentence_clean = re.sub(\"[^a-zA-Z]\",\" \",sentence)\n",
    "print(sentence_clean)"
   ]
  },
  {
   "cell_type": "markdown",
   "metadata": {},
   "source": [
    "# 4. Removal of HTML Tags"
   ]
  },
  {
   "cell_type": "code",
   "execution_count": 6,
   "metadata": {},
   "outputs": [
    {
     "name": "stdout",
     "output_type": "stream",
     "text": [
      "\n",
      "     Hii  \n",
      "\n"
     ]
    }
   ],
   "source": [
    "sentence = '''\n",
    "    <h3 style=\"color:red\">Hii </h3>\n",
    "''' \n",
    "\n",
    "clean_sentence = re.sub(\"<.*?>\",\" \",sentence)\n",
    "print(clean_sentence)"
   ]
  },
  {
   "cell_type": "markdown",
   "metadata": {},
   "source": [
    "# 5. Removing URL's"
   ]
  },
  {
   "cell_type": "code",
   "execution_count": 7,
   "metadata": {},
   "outputs": [
    {
     "name": "stdout",
     "output_type": "stream",
     "text": [
      "I visited   on 25'th\n"
     ]
    }
   ],
   "source": [
    "import re\n",
    "\n",
    "sentence = \"I visited https://sidhya.com/page/home.html on 25'th\"\n",
    "clean_sentence = re.sub(r\"(http|https|www)\\S+\",\" \", sentence)\n",
    "print(clean_sentence)\n"
   ]
  },
  {
   "cell_type": "markdown",
   "metadata": {},
   "source": [
    "# 6. Removing Extra Spaces"
   ]
  },
  {
   "cell_type": "code",
   "execution_count": 8,
   "metadata": {},
   "outputs": [
    {
     "name": "stdout",
     "output_type": "stream",
     "text": [
      "Hii Team Data Dynamos, Ho is your project going on\n"
     ]
    }
   ],
   "source": [
    "sentence = \"Hii Team     Data Dynamos, Ho is your      project going on\"\n",
    "clean_sentence = re.sub(\" +\",\" \",sentence)\n",
    "print(clean_sentence)"
   ]
  },
  {
   "cell_type": "markdown",
   "metadata": {},
   "source": [
    "# 7. Expanding Contraction"
   ]
  },
  {
   "cell_type": "code",
   "execution_count": 10,
   "metadata": {},
   "outputs": [],
   "source": [
    "import contractions"
   ]
  },
  {
   "cell_type": "code",
   "execution_count": null,
   "metadata": {},
   "outputs": [],
   "source": [
    "sentence = \"We've reached final step of our. We'll meet u in Project\"\n"
   ]
  }
 ],
 "metadata": {
  "kernelspec": {
   "display_name": "ai",
   "language": "python",
   "name": "python3"
  },
  "language_info": {
   "codemirror_mode": {
    "name": "ipython",
    "version": 3
   },
   "file_extension": ".py",
   "mimetype": "text/x-python",
   "name": "python",
   "nbconvert_exporter": "python",
   "pygments_lexer": "ipython3",
   "version": "3.10.16"
  }
 },
 "nbformat": 4,
 "nbformat_minor": 2
}
