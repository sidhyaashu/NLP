{
 "cells": [
  {
   "cell_type": "markdown",
   "metadata": {},
   "source": [
    "Lemmatization in NLP refers to reducing words to their base or dictionary form (lemma). Unlike stemming, which just removes prefixes and suffixes, lemmatization uses a vocabulary and morphological analysis of words. The main types of lemmatization methods are:\n",
    "\n",
    "1. Dictionary-based Lemmatization:\n",
    "\n",
    "Uses a dictionary or lexical database (e.g., WordNet) to look up the base form (lemma) of a word.\n",
    "It finds the lemma by matching the word with its base form in the dictionary.\n",
    "Example: \"better\" → \"good\", \"running\" → \"run\".\n",
    "\n",
    "2. Rule-based Lemmatization:\n",
    "\n",
    "Applies morphological rules to convert a word to its lemma.\n",
    "It might involve removing certain suffixes or applying grammar-based rules.\n",
    "Example: \"am\" → \"be\", \"cats\" → \"cat\".\n",
    "\n",
    "3. Contextual Lemmatization:\n",
    "\n",
    "More advanced, it analyzes the context of the word to determine the correct lemma.\n",
    "It often requires NLP models or algorithms to detect the word's part of speech (POS), then uses this context to apply the correct lemma.\n",
    "Example: \"ran\" (past tense of \"run\") vs. \"run\" (verb in present tense) are lemmatized based on context."
   ]
  },
  {
   "cell_type": "markdown",
   "metadata": {},
   "source": []
  },
  {
   "cell_type": "code",
   "execution_count": null,
   "metadata": {},
   "outputs": [],
   "source": [
    "import nltk\n",
    "from nltk.stem import WordNetLemmatizer\n",
    "from nltk.corpus import wordnet\n",
    "\n",
    "# Download necessary NLTK data files\n",
    "nltk.download('punkt')\n",
    "nltk.download('wordnet')\n",
    "nltk.download('omw-1.4')\n",
    "\n",
    "# Initialize the lemmatizer\n",
    "lemmatizer = WordNetLemmatizer()\n",
    "\n",
    "# Example words to lemmatize\n",
    "words = [\"running\", \"better\", \"cats\", \"am\", \"flying\", \"geese\"]\n",
    "\n",
    "# Lemmatize without POS (default is 'noun')\n",
    "lemmatized_words_default = [lemmatizer.lemmatize(word) for word in words]\n",
    "\n",
    "# Lemmatize with part of speech (POS)\n",
    "lemmatized_words_with_pos = []\n",
    "for word in words:\n",
    "    # We can use wordnet.POS to specify the POS tag\n",
    "    # For example, 'v' is for verb, 'n' for noun, 'a' for adjective\n",
    "    pos = wordnet.VERB if word == \"running\" else wordnet.NOUN\n",
    "    lemmatized_words_with_pos.append(lemmatizer.lemmatize(word, pos))\n",
    "\n",
    "# Print results\n",
    "print(\"Original Words:\", words)\n",
    "print(\"Lemmatized (Default POS):\", lemmatized_words_default)\n",
    "print(\"Lemmatized (With POS):\", lemmatized_words_with_pos)\n"
   ]
  }
 ],
 "metadata": {
  "language_info": {
   "name": "python"
  }
 },
 "nbformat": 4,
 "nbformat_minor": 2
}
